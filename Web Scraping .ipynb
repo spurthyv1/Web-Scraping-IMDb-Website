{
 "cells": [
  {
   "cell_type": "code",
   "execution_count": 1,
   "id": "a34c8f91",
   "metadata": {},
   "outputs": [],
   "source": [
    "from bs4 import BeautifulSoup"
   ]
  },
  {
   "cell_type": "code",
   "execution_count": 2,
   "id": "afd09974",
   "metadata": {},
   "outputs": [],
   "source": [
    "import requests\n",
    "import pandas as pd"
   ]
  },
  {
   "cell_type": "code",
   "execution_count": 3,
   "id": "50dcce92",
   "metadata": {},
   "outputs": [],
   "source": [
    "source = requests.get('https://www.boxofficemojo.com/release/rl768837377/weekend/')"
   ]
  },
  {
   "cell_type": "code",
   "execution_count": 4,
   "id": "d6c6b697",
   "metadata": {},
   "outputs": [],
   "source": [
    "source.raise_for_status()"
   ]
  },
  {
   "cell_type": "code",
   "execution_count": 5,
   "id": "99eca885",
   "metadata": {},
   "outputs": [],
   "source": [
    "soup = BeautifulSoup(source.text,'html.parser')"
   ]
  },
  {
   "cell_type": "code",
   "execution_count": 6,
   "id": "8edad45c",
   "metadata": {},
   "outputs": [],
   "source": [
    "table_rows = soup.find_all('tr')\n",
    "\n",
    "table_data = []\n",
    "for row in table_rows:\n",
    "    columns = row.find_all('td')\n",
    "    row_data = [column.text for column in columns]\n",
    "    table_data.append(row_data)\n",
    "\n",
    "df = pd.DataFrame(table_data, columns=['Column 1', 'Column 2', 'Column 3','Column 4','Column 5','Column 6','Column 7','Column 8','Column 9','Column 10'])\n"
   ]
  },
  {
   "cell_type": "code",
   "execution_count": 7,
   "id": "433012b1",
   "metadata": {},
   "outputs": [],
   "source": [
    "df = df.iloc[1:]"
   ]
  },
  {
   "cell_type": "code",
   "execution_count": 8,
   "id": "46b6f595",
   "metadata": {},
   "outputs": [],
   "source": [
    "df = df.drop(columns=df.columns[9])"
   ]
  },
  {
   "cell_type": "code",
   "execution_count": 9,
   "id": "d0accb36",
   "metadata": {},
   "outputs": [],
   "source": [
    "new_column_names = ['WeekendDate', 'WeekendRank', 'WeekendGross', '%± LW', 'WeekendTheatres',\n",
    "                    'Change', 'WeekendAvg', 'WeekendNet', 'WeekendNo']\n",
    "\n",
    "df.columns = new_column_names"
   ]
  },
  {
   "cell_type": "code",
   "execution_count": 10,
   "id": "fb461b80",
   "metadata": {},
   "outputs": [],
   "source": [
    "desired_column_order = ['WeekendNo', 'WeekendDate', 'WeekendTheatres', 'WeekendGross', 'WeekendAvg', 'WeekendNet', 'WeekendRank', '%± LW', 'Change']\n",
    "\n",
    "df = df[desired_column_order]"
   ]
  },
  {
   "cell_type": "code",
   "execution_count": 11,
   "id": "d06b797f",
   "metadata": {},
   "outputs": [],
   "source": [
    "df[['StartDate', 'EndDate']] = df['WeekendDate'].str.split('-', expand=True)\n",
    "df['StartDate'] = df['StartDate'].str.strip()\n",
    "df['EndDate'] = df['EndDate'].str.strip()"
   ]
  },
  {
   "cell_type": "code",
   "execution_count": 12,
   "id": "8a30b06c",
   "metadata": {},
   "outputs": [],
   "source": [
    "df['EndDate'] = df['WeekendDate'].str[:3] + ' '+ df['EndDate']"
   ]
  },
  {
   "cell_type": "code",
   "execution_count": 13,
   "id": "7358e0d9",
   "metadata": {},
   "outputs": [],
   "source": [
    "desired_column_order = ['WeekendNo', 'WeekendDate', 'StartDate' , 'EndDate' , 'WeekendTheatres', 'WeekendGross', 'WeekendAvg', 'WeekendNet', 'WeekendRank']\n",
    "\n",
    "# Reassign the DataFrame with the desired column order\n",
    "df = df[desired_column_order]"
   ]
  },
  {
   "cell_type": "code",
   "execution_count": 14,
   "id": "aa3f6072",
   "metadata": {},
   "outputs": [],
   "source": [
    "# Adding three new columns at the start of the DataFrame\n",
    "start_id = 25686\n",
    "end_id = start_id + len(df)  # Calculate the end ID based on the number of rows in the DataFrame\n",
    "\n",
    "# Assigning values to the new columns\n",
    "df.insert(0, 'ID_No', range(start_id, end_id))\n",
    "df.insert(1, 'Title', 'Little Fockers')\n",
    "df.insert(2, 'Country', 'Australia')"
   ]
  },
  {
   "cell_type": "code",
   "execution_count": 15,
   "id": "c44a225c",
   "metadata": {},
   "outputs": [
    {
     "name": "stdout",
     "output_type": "stream",
     "text": [
      "DataFrame has been successfully written to Output.xlsx\n"
     ]
    }
   ],
   "source": [
    "file_path = 'Output.xlsx'\n",
    "df.to_excel(file_path, index=False) \n",
    "print(f\"DataFrame has been successfully written to {file_path}\")"
   ]
  },
  {
   "cell_type": "code",
   "execution_count": 16,
   "id": "e6986c3e",
   "metadata": {},
   "outputs": [],
   "source": [
    "import pandas as pd\n",
    "\n",
    "# File paths\n",
    "file_path = 'Output.xlsx'\n",
    "existing_file_path=r\"C:\\Users\\vspur\\Downloads\\EXTRACTED DATA.xlsx\"\n",
    "# Read data from Output.xlsx\n",
    "data_to_append = pd.read_excel(file_path)\n",
    "\n",
    "# Read existing data from USMovie2010t02021_US&Korea&Germany.xlsx\n",
    "existing_data = pd.read_excel(existing_file_path)\n",
    "\n",
    "# Append data_to_append to existing_data\n",
    "appended_data = pd.concat([existing_data, data_to_append], ignore_index=True)\n",
    "\n",
    "# Write the appended data back to the existing Excel file\n",
    "appended_data.to_excel(existing_file_path, index=False)\n"
   ]
  },
  {
   "cell_type": "code",
   "execution_count": null,
   "id": "109dd9d1",
   "metadata": {},
   "outputs": [],
   "source": []
  }
 ],
 "metadata": {
  "kernelspec": {
   "display_name": "Python 3 (ipykernel)",
   "language": "python",
   "name": "python3"
  },
  "language_info": {
   "codemirror_mode": {
    "name": "ipython",
    "version": 3
   },
   "file_extension": ".py",
   "mimetype": "text/x-python",
   "name": "python",
   "nbconvert_exporter": "python",
   "pygments_lexer": "ipython3",
   "version": "3.11.4"
  }
 },
 "nbformat": 4,
 "nbformat_minor": 5
}
